{
 "cells": [
  {
   "cell_type": "code",
   "execution_count": 1,
   "id": "d341bc7d-d6c6-4daf-9809-25ad5ac8b45b",
   "metadata": {},
   "outputs": [
    {
     "name": "stdout",
     "output_type": "stream",
     "text": [
      "Nama : muhamad reksa pratama\n",
      "Alamat : jl.jampangkulon\n",
      "Umur : 20\n",
      "Nilai pemrograman : 90.7\n",
      "Status Menikah : False\n",
      "propinsi : 030405\n"
     ]
    }
   ],
   "source": [
    "name = \"Muhammad Ardi Madinah\"\n",
    "addres,province = \"jl.jampangkulon\",\"289462\"\n",
    "age = 19\n",
    "scorePython = 90.7\n",
    "isMarried = False\n",
    "\n",
    "\n",
    "print (\"Nama :\" ,name)\n",
    "print (\"Alamat :\" , addres)\n",
    "print (\"Umur :\" ,age)\n",
    "print (\"Nilai pemrograman :\" ,scorePython)\n",
    "print (\"Status Menikah :\" ,isMarried)\n",
    "print (\"propinsi :\" ,province)"
   ]
  },
  {
   "cell_type": "code",
   "execution_count": 3,
   "id": "45242a1a-0d60-4ce2-a23d-9d46578ba0c5",
   "metadata": {},
   "outputs": [
    {
     "name": "stdout",
     "output_type": "stream",
     "text": [
      "tipe data <name> : <class 'str'>\n",
      "tipe data <address> : <class 'str'>\n",
      "tipe data <age> : <class 'int'>\n",
      "tipe data <scorePython> : <class 'float'>\n",
      "tipe data <isMarried> : <class 'bool'>\n"
     ]
    }
   ],
   "source": [
    "print (\"tipe data <name> :\" , type(name))\n",
    "print (\"tipe data <address> :\" , type(addres))\n",
    "print (\"tipe data <age> :\" , type(age))\n",
    "print (\"tipe data <scorePython> :\" , type(scorePython))\n",
    "print (\"tipe data <isMarried> :\" , type(isMarried))\n"
   ]
  },
  {
   "cell_type": "code",
   "execution_count": 4,
   "id": "e7fdc104-ada6-45ed-9f4b-357d24cd6e25",
   "metadata": {},
   "outputs": [
    {
     "name": "stdout",
     "output_type": "stream",
     "text": [
      "30407-30405.0-True\n",
      "20-30405.0-True\n",
      "90.7-90-True\n",
      "False-0-False\n"
     ]
    }
   ],
   "source": [
    "# casting / KOnversi Tipe Data\n",
    "#1. String ke (int,float,boolean)\n",
    "strToInt = int (province)\n",
    "strToFLoat = float (province)\n",
    "strToBool = bool (province)\n",
    "print(strToInt + 2,strToFLoat,strToBool, sep=\"-\")\n",
    "\n",
    "#2. String ke (int,float,boolean)\n",
    "intToStr= str (age)\n",
    "intToFLoat = float (age)\n",
    "intToBool = bool (age)\n",
    "print(intToStr ,strToFLoat,strToBool, sep=\"-\")\n",
    "\n",
    "#3. Float ke (int,float,boolean)\n",
    "floatToStr= str (scorePython)\n",
    "floatToint = int (scorePython)\n",
    "floatToBool = bool (scorePython)\n",
    "print(floatToStr ,floatToint,floatToBool, sep=\"-\")\n",
    "\n",
    "#3. Bool ke (int,float,boolean)\n",
    "boolToStr= str (isMarried)\n",
    "boolToint = int (isMarried)\n",
    "boolTofloat = bool (isMarried)\n",
    "print(boolToStr ,boolToint,boolTofloat, sep=\"-\")"
   ]
  },
  {
   "cell_type": "code",
   "execution_count": 5,
   "id": "4614a233-e884-40aa-b12e-e5d9176046aa",
   "metadata": {},
   "outputs": [
    {
     "name": "stdout",
     "output_type": "stream",
     "text": [
      "Nilai desimal : 500\n",
      " Nilai biner : 10\n",
      " Nilai octal : 255\n",
      " Nilai hexa : 255\n",
      "Nilai biner dari 500 : 0b111110100\n",
      "Nilai octal dari 500 : 0o764\n",
      "Nilai hexa dari 500 : 0x1f4\n"
     ]
    }
   ],
   "source": [
    " #Tipe data basis bilangan (desimal,biner,octal, hexa)\n",
    "\n",
    "desimal = 500\n",
    "biner = 0b1010 #10\n",
    "octal = 0o377 #255\n",
    "hexa = 0xff #255\n",
    "\n",
    "print (\"Nilai desimal :\",desimal)\n",
    "print (\" Nilai biner :\",biner)\n",
    "print (\" Nilai octal :\",octal)\n",
    "print (\" Nilai hexa :\",hexa)\n",
    "\n",
    "print (\"Nilai biner dari\",desimal, \":\" ,bin(desimal))\n",
    "print (\"Nilai octal dari\",desimal, \":\" ,oct(desimal))\n",
    "print (\"Nilai hexa dari\",desimal, \":\" ,hex(desimal))"
   ]
  },
  {
   "cell_type": "code",
   "execution_count": 6,
   "id": "5451df4b-0242-493a-8b08-8f6479734c91",
   "metadata": {},
   "outputs": [
    {
     "name": "stdout",
     "output_type": "stream",
     "text": [
      "J\n",
      "12\n",
      "N\n"
     ]
    }
   ],
   "source": [
    "city = \"JAMPANGKULON\"\n",
    "length = len(city)\n",
    "print (city[0])\n",
    "print (length)\n",
    "print (city[length-1])"
   ]
  },
  {
   "cell_type": "code",
   "execution_count": 8,
   "id": "6399db5f-d80b-48fe-8f2f-05e20ce210a3",
   "metadata": {},
   "outputs": [
    {
     "name": "stdout",
     "output_type": "stream",
     "text": [
      "['bandung', 'Sukabumi', 'Bogor', 'Jakarta', 'medan']\n",
      "bandung\n",
      "medan\n",
      "m\n",
      "n\n",
      "['Bali', 'Sukabumi', 'Bogor', 'Jakarta', 'medan']\n",
      "('Reemar', 'Awa', 'ardi')\n",
      "Awa\n",
      "{'name': 'Reemar', 'age': 21, 'address': {'street': 'Australlia', 'number': 23, 'province': 'Jawa Barat'}, 'isMarried': False, 'hobbies': ['badminton', 'volly']}\n",
      "21\n",
      "Jawa Barat\n",
      "badminton\n"
     ]
    }
   ],
   "source": [
    "#Tipe data Collection\n",
    "cities =[\"bandung\",\"Sukabumi\",\"Bogor\",\"Jakarta\",\"medan\"]\n",
    "lengthCities = len(cities)\n",
    "print (cities)\n",
    "print (cities[0])\n",
    "print (cities[lengthCities-1])\n",
    "print (cities[lengthCities-1][0])\n",
    "print (cities[lengthCities-1][len(cities[lengthCities-1])-1])\n",
    "cities [0] = \"Bali\"\n",
    "#cities[5] = \"Malang\" akan menyebabkan eror out of range\n",
    "print (cities)\n",
    "\n",
    "names = (\"Reemar\",\"Awa\",\"ardi\")\n",
    "print (names)\n",
    "print (names[1])\n",
    "#names[0] = \"Dedi\" error immutable tuple\n",
    "\n",
    "studentData = {\n",
    "    \"name\" : \"Reemar\",\n",
    "    \"age\": 21,\n",
    "    \"address\" : {\n",
    "        \"street\" : \"Australlia\",\n",
    "        \"number\" : 23,\n",
    "        \"province\" : \"Jawa Barat\"\n",
    "    },\n",
    "    \"isMarried\" : False,\n",
    "    \"hobbies\" : [\"badminton\", \"volly\"]\n",
    "    \n",
    "\n",
    "}\n",
    "{\n",
    "    \"name\" : \"Awa\",\n",
    "    \"age\" : 19,\n",
    "    \"address\" : {\n",
    "        \"street\" : \"Jampangkulon\",\n",
    "        \"number\" : 29,\n",
    "        \"province\" : \"Jawa Barat\"\n",
    "    },\n",
    "    \"isMarried\" : False,\n",
    "    \"hobbies\" : [\"Make up\", \"Singing\"]\n",
    "}\n",
    "\n",
    "\n",
    "\n",
    "print (studentData)\n",
    "print (studentData[\"age\"])\n",
    "print (studentData[\"address\"][\"province\"])\n",
    "print (studentData[\"hobbies\"][0])"
   ]
  },
  {
   "cell_type": "code",
   "execution_count": 9,
   "id": "3b0ae236-9675-4d5c-a674-25511e57faa9",
   "metadata": {},
   "outputs": [
    {
     "name": "stdout",
     "output_type": "stream",
     "text": [
      "{'name': 'andi', 'age': 30, 'Status': True}\n",
      "{'Name': 'Tugba', 'Address': 'Bogor'}\n",
      "{'name': 'tiger', 'Type': 'Mamalia'}\n",
      "{'name': 'Reza', 'type': 'Mamalia'}\n",
      "{'vehicle': 'car', 'Brand': 'BMW', 'cc': '2500'}\n"
     ]
    }
   ],
   "source": [
    "#Konversi dictionary\n",
    "\n",
    "list_list =[[\"name\",\"andi\"],[\"age\", 30],[\"Status\", True]]\n",
    "dictListStudent = dict (list_list)\n",
    "print (dictListStudent)\n",
    "\n",
    "list_tuple = [(\"Name\",\"Tugba\"),(\"Address\",\"Bogor\")]\n",
    "dictTupleStudent = dict (list_tuple)\n",
    "print (dictTupleStudent)\n",
    "\n",
    "tuple_list = ([\"name\",\"tiger\"],[\"Type\",\"Mamalia\"])\n",
    "dictListAnimal = dict (tuple_list)\n",
    "print (dictListAnimal)\n",
    "\n",
    "tuple_tuple = ((\"name\", \"Reza\"), (\"type\", \"Mamalia\"))\n",
    "dictTupAnimal = dict(tuple_tuple)\n",
    "print (dictTupAnimal)\n",
    "\n",
    "keys = [ \"vehicle\",\"Brand\" ,\"cc\"]\n",
    "values = [\"car\",\"BMW\", \"2500\"]\n",
    "car = dict(zip(keys,values))\n",
    "print(car)"
   ]
  }
 ],
 "metadata": {
  "kernelspec": {
   "display_name": "Python 3 (ipykernel)",
   "language": "python",
   "name": "python3"
  },
  "language_info": {
   "codemirror_mode": {
    "name": "ipython",
    "version": 3
   },
   "file_extension": ".py",
   "mimetype": "text/x-python",
   "name": "python",
   "nbconvert_exporter": "python",
   "pygments_lexer": "ipython3",
   "version": "3.12.7"
  }
 },
 "nbformat": 4,
 "nbformat_minor": 5
}
